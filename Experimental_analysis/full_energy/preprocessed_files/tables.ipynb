{
 "cells": [
  {
   "cell_type": "code",
   "execution_count": 16,
   "metadata": {},
   "outputs": [],
   "source": [
    "#import libraries\n",
    "\n",
    "import pandas as pd\n",
    "import numpy as np\n",
    "import matplotlib.pyplot as plt\n",
    "import seaborn as sns\n",
    "\n",
    "#read in data\n",
    "for i in range(0, 19):\n",
    "    df = f'gaf_{i}.csv'\n"
   ]
  },
  {
   "cell_type": "code",
   "execution_count": 19,
   "metadata": {},
   "outputs": [
    {
     "data": {
      "text/html": [
       "<div>\n",
       "<style scoped>\n",
       "    .dataframe tbody tr th:only-of-type {\n",
       "        vertical-align: middle;\n",
       "    }\n",
       "\n",
       "    .dataframe tbody tr th {\n",
       "        vertical-align: top;\n",
       "    }\n",
       "\n",
       "    .dataframe thead th {\n",
       "        text-align: right;\n",
       "    }\n",
       "</style>\n",
       "<table border=\"1\" class=\"dataframe\">\n",
       "  <thead>\n",
       "    <tr style=\"text-align: right;\">\n",
       "      <th></th>\n",
       "      <th>yf</th>\n",
       "      <th>yd</th>\n",
       "    </tr>\n",
       "  </thead>\n",
       "  <tbody>\n",
       "    <tr>\n",
       "      <th>0</th>\n",
       "      <td>-0.002900</td>\n",
       "      <td>0.0</td>\n",
       "    </tr>\n",
       "    <tr>\n",
       "      <th>1</th>\n",
       "      <td>0.165313</td>\n",
       "      <td>0.0</td>\n",
       "    </tr>\n",
       "    <tr>\n",
       "      <th>2</th>\n",
       "      <td>0.333527</td>\n",
       "      <td>0.0</td>\n",
       "    </tr>\n",
       "    <tr>\n",
       "      <th>3</th>\n",
       "      <td>0.501740</td>\n",
       "      <td>0.0</td>\n",
       "    </tr>\n",
       "    <tr>\n",
       "      <th>4</th>\n",
       "      <td>0.669954</td>\n",
       "      <td>0.0</td>\n",
       "    </tr>\n",
       "  </tbody>\n",
       "</table>\n",
       "</div>"
      ],
      "text/plain": [
       "         yf   yd\n",
       "0 -0.002900  0.0\n",
       "1  0.165313  0.0\n",
       "2  0.333527  0.0\n",
       "3  0.501740  0.0\n",
       "4  0.669954  0.0"
      ]
     },
     "execution_count": 19,
     "metadata": {},
     "output_type": "execute_result"
    }
   ],
   "source": [
    "#display gaf1 dataframe\n",
    "gaf1 = pd.read_csv('gaf_1.csv')\n",
    "gaf1.head()\n"
   ]
  },
  {
   "cell_type": "code",
   "execution_count": 27,
   "metadata": {},
   "outputs": [],
   "source": [
    "import numpy as np\n",
    "import pandas as pd\n",
    "\n",
    "# Initialize variables for storing the mean and std\n",
    "gaf_nums = []\n",
    "yf_means = []\n",
    "yf_stds = []\n",
    "yd_means = []\n",
    "yd_stds = []\n",
    "\n",
    "# Iterate over the files\n",
    "for i in range(7,13):\n",
    "    file_name = f\"gaf_{i}.csv\"  # Replace \".txt\" with the actual file extension if different\n",
    "    df = pd.read_csv(file_name, header=0, names=['yf', 'yd'])\n",
    "\n",
    "    # Calculate mean and std for each column\n",
    "    yf_mean = df['yf'].mean()\n",
    "    yf_std = df['yf'].std()\n",
    "    yd_mean = df['yd'].mean()\n",
    "    yd_std = df['yd'].std()\n",
    "\n",
    "    # Store the values in the respective variables\n",
    "    gaf_nums.append(i)\n",
    "    yf_means.append(yf_mean)\n",
    "    yf_stds.append(yf_std)\n",
    "    yd_means.append(yd_mean)\n",
    "    yd_stds.append(yd_std)\n",
    "\n",
    "# Create a new DataFrame to store the results\n",
    "result_df = pd.DataFrame({\n",
    "    'gaf': gaf_nums,\n",
    "    'yf_mean': yf_means,\n",
    "    'yf_std': yf_stds,\n",
    "    'yd_mean': yd_means,\n",
    "    'yd_std': yd_stds\n",
    "})\n",
    "\n",
    "# Save the results to a new file\n",
    "result_df.to_csv('result.csv', index=False)\n"
   ]
  }
 ],
 "metadata": {
  "kernelspec": {
   "display_name": "Python 3",
   "language": "python",
   "name": "python3"
  },
  "language_info": {
   "codemirror_mode": {
    "name": "ipython",
    "version": 3
   },
   "file_extension": ".py",
   "mimetype": "text/x-python",
   "name": "python",
   "nbconvert_exporter": "python",
   "pygments_lexer": "ipython3",
   "version": "3.10.6"
  },
  "orig_nbformat": 4
 },
 "nbformat": 4,
 "nbformat_minor": 2
}
